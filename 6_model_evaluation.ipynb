{
 "cells": [
  {
   "cell_type": "markdown",
   "id": "c3bd1208",
   "metadata": {},
   "source": [
    "# Model Evaluation\n",
    "\n",
    "In this notebook, we train our Random Forest model with the parameters identified by the Grid Search algorithm. We then evaluate it on our test set as well as two new unseen datasets (768 molecule and 512 molecule datasets)."
   ]
  },
  {
   "cell_type": "code",
   "execution_count": 1,
   "id": "62270ce0",
   "metadata": {},
   "outputs": [],
   "source": [
    "# Importing the relevant libraries\n",
    "import pandas as pd\n",
    "import seaborn as sns\n",
    "import numpy as np\n",
    "import matplotlib.pyplot as plt\n",
    "from sklearn.model_selection import train_test_split\n",
    "from sklearn.ensemble import RandomForestClassifier\n",
    "from sklearn.metrics import accuracy_score, f1_score, precision_score, recall_score, confusion_matrix, roc_curve, auc, precision_recall_curve"
   ]
  },
  {
   "cell_type": "code",
   "execution_count": 2,
   "id": "a043f189",
   "metadata": {},
   "outputs": [],
   "source": [
    "# Reading the three dataframes (already clustered using BGMM)\n",
    "df_1024_clustered = pd.read_csv(\"data/1024_clustered.csv\").dropna()\n",
    "df_768_clustered = pd.read_csv(\"data/768_clustered.csv\").dropna()\n",
    "df_512_clustered = pd.read_csv(\"data/512_clustered.csv\").dropna()"
   ]
  },
  {
   "cell_type": "code",
   "execution_count": 4,
   "id": "5bddfa6e",
   "metadata": {},
   "outputs": [],
   "source": [
    "features = ['LSI_all', 'zeta_all', 'd5_all', 'Sk_all', 'q_all', 'Q6_all']\n",
    "\n",
    "labels = df_1024_clustered['labels']\n",
    "\n",
    "# Split the data into training and testing sets\n",
    "X_train, X_test, y_train, y_test = train_test_split(df_1024_clustered[features], labels, test_size=0.2, random_state=42)"
   ]
  },
  {
   "cell_type": "code",
   "execution_count": 5,
   "id": "128de043",
   "metadata": {},
   "outputs": [
    {
     "data": {
      "text/plain": [
       "RandomForestClassifier(max_depth=20, max_features=None, min_samples_split=5,\n",
       "                       n_estimators=50)"
      ]
     },
     "execution_count": 5,
     "metadata": {},
     "output_type": "execute_result"
    }
   ],
   "source": [
    "# Update Random Forest classifier with the full set of specified hyperparameters\n",
    "rf = RandomForestClassifier(\n",
    "    bootstrap=True,\n",
    "    ccp_alpha=0.0,\n",
    "    class_weight=None,\n",
    "    criterion='gini',\n",
    "    max_depth=20,\n",
    "    max_features=None,\n",
    "    max_leaf_nodes=None,\n",
    "    max_samples=None,\n",
    "    min_impurity_decrease=0.0,\n",
    "    min_samples_leaf=1,\n",
    "    min_samples_split=5,\n",
    "    min_weight_fraction_leaf=0.0,\n",
    "    n_estimators=50,\n",
    "    n_jobs=None,\n",
    "    oob_score=False,\n",
    "    random_state=None,\n",
    "    verbose=0,\n",
    "    warm_start=False\n",
    ")\n",
    "\n",
    "# Train the model on the training set\n",
    "rf.fit(X_train, y_train)"
   ]
  },
  {
   "cell_type": "code",
   "execution_count": 6,
   "id": "9a9c6fe3",
   "metadata": {},
   "outputs": [
    {
     "name": "stdout",
     "output_type": "stream",
     "text": [
      "Predictions Generated for Test Set.\n"
     ]
    }
   ],
   "source": [
    "# Predict the labels on the test dataset\n",
    "predicted_labels_test = rf.predict(X_test)\n",
    "print(\"Predictions Generated for Test Set.\")"
   ]
  },
  {
   "cell_type": "code",
   "execution_count": 7,
   "id": "28a649d5",
   "metadata": {},
   "outputs": [
    {
     "name": "stdout",
     "output_type": "stream",
     "text": [
      "Test Set Random Forest F1: 0.9927241466366439\n",
      "Test Set Random Forest Accuracy: 0.9963613746279761\n",
      "Test Set Random Forest Precision: 0.9946697251381948\n",
      "Test Set Random Forest Recall: 0.9907861643975462\n"
     ]
    }
   ],
   "source": [
    "# Calculate evaluation metrics for the test set\n",
    "f1_test = f1_score(y_test, predicted_labels_test)\n",
    "accuracy_test = accuracy_score(y_test, predicted_labels_test)\n",
    "precision_test = precision_score(y_test, predicted_labels_test)\n",
    "recall_test = recall_score(y_test, predicted_labels_test)\n",
    "\n",
    "print(f\"Test Set Random Forest F1: {f1_test}\")\n",
    "print(f\"Test Set Random Forest Accuracy: {accuracy_test}\")\n",
    "print(f\"Test Set Random Forest Precision: {precision_test}\")\n",
    "print(f\"Test Set Random Forest Recall: {recall_test}\")"
   ]
  },
  {
   "cell_type": "code",
   "execution_count": 10,
   "id": "5087c591",
   "metadata": {},
   "outputs": [
    {
     "name": "stdout",
     "output_type": "stream",
     "text": [
      "768 Predictions Generated.\n",
      "768 Random Forest F1: 0.9696629270560027\n",
      "768 Random Forest Accuracy: 0.9851883680555555\n",
      "768 Random Forest Precision: 0.9967320295566348\n",
      "768 Random Forest Recall: 0.9440252281497725\n"
     ]
    }
   ],
   "source": [
    "# Predict the labels on the new 768 dataset\n",
    "predicted_labels = rf.predict(df_768_clustered[features])\n",
    "print(\"768 Predictions Generated.\")\n",
    "\n",
    "# Calculate evaluation metrics\n",
    "f1 = f1_score(df_768_clustered['labels'], predicted_labels)\n",
    "accuracy = accuracy_score(df_768_clustered['labels'], predicted_labels)\n",
    "precision = precision_score(df_768_clustered['labels'], predicted_labels)\n",
    "recall = recall_score(df_768_clustered['labels'], predicted_labels)\n",
    "\n",
    "print(f\"768 Random Forest F1: {f1}\")\n",
    "print(f\"768 Random Forest Accuracy: {accuracy}\")\n",
    "print(f\"768 Random Forest Precision: {precision}\")\n",
    "print(f\"768 Random Forest Recall: {recall}\")"
   ]
  },
  {
   "cell_type": "code",
   "execution_count": 11,
   "id": "c013ad94",
   "metadata": {},
   "outputs": [
    {
     "data": {
      "image/png": "[encoded data removed]",
      "text/plain": [
       "<Figure size 576x432 with 1 Axes>"
      ]
     },
     "metadata": {
      "needs_background": "light"
     },
     "output_type": "display_data"
    },
    {
     "name": "stdout",
     "output_type": "stream",
     "text": [
      "768 Confusion Matrix Saved\n"
     ]
    },
    {
     "data": {
      "text/plain": [
       "<Figure size 432x288 with 0 Axes>"
      ]
     },
     "metadata": {},
     "output_type": "display_data"
    }
   ],
   "source": [
    "# Confusion Matrix Visualization\n",
    "cm = confusion_matrix(df_768_clustered['labels'], predicted_labels)\n",
    "plt.figure(figsize=(8, 6))\n",
    "\n",
    "# Define the labels for the confusion matrix\n",
    "group_names = ['True Cluster 0', 'False Cluster 1', 'False Cluster 0', 'True Cluster 1']\n",
    "\n",
    "# Create a 2x2 array with the custom labels\n",
    "labels = (np.asarray([\"{0}\\n{1}\".format(name, count)\n",
    "                      for name, count in zip(group_names, cm.flatten())])\n",
    "          .reshape(2, 2))\n",
    "\n",
    "# Plot the heatmap with the custom labels\n",
    "sns.heatmap(cm, annot=labels, fmt='', cmap='Blues', cbar=False)\n",
    "\n",
    "plt.title('Confusion Matrix for Clusters', pad=20)\n",
    "plt.ylabel('Actual Cluster', labelpad=10)\n",
    "plt.xlabel('Predicted Cluster', labelpad=10)\n",
    "plt.xticks(ticks=[0.5, 1.5], labels=['Cluster 0', 'Cluster 1'])\n",
    "plt.yticks(ticks=[0.5, 1.5], labels=['Cluster 0', 'Cluster 1'], rotation=0, va='center')\n",
    "\n",
    "# Save the figure\n",
    "plt.show()\n",
    "plt.savefig(\"confusion_matrix_768.png\", bbox_inches='tight', dpi=300)\n",
    "print(\"768 Confusion Matrix Saved\")"
   ]
  },
  {
   "cell_type": "code",
   "execution_count": 12,
   "id": "683ed036",
   "metadata": {},
   "outputs": [
    {
     "name": "stdout",
     "output_type": "stream",
     "text": [
      "512 Predictions Generated.\n"
     ]
    }
   ],
   "source": [
    "# Predict the labels on the new 512 dataset\n",
    "predicted_labels = rf.predict(df_512_clustered[features])\n",
    "print(\"512 Predictions Generated.\")"
   ]
  },
  {
   "cell_type": "code",
   "execution_count": 13,
   "id": "7192c8fb",
   "metadata": {},
   "outputs": [
    {
     "name": "stdout",
     "output_type": "stream",
     "text": [
      "512 Random Forest F1: 0.978349830083413\n",
      "512 Random Forest Accuracy: 0.9890418526785715\n",
      "512 Random Forest Precision: 0.9678987442654254\n",
      "512 Random Forest Recall: 0.989029074994613\n"
     ]
    }
   ],
   "source": [
    "# Calculate evaluation metrics\n",
    "f1 = f1_score(df_512_clustered['labels'], predicted_labels)\n",
    "accuracy = accuracy_score(df_512_clustered['labels'], predicted_labels)\n",
    "precision = precision_score(df_512_clustered['labels'], predicted_labels)\n",
    "recall = recall_score(df_512_clustered['labels'], predicted_labels)\n",
    "\n",
    "print(f\"512 Random Forest F1: {f1}\")\n",
    "print(f\"512 Random Forest Accuracy: {accuracy}\")\n",
    "print(f\"512 Random Forest Precision: {precision}\")\n",
    "print(f\"512 Random Forest Recall: {recall}\")"
   ]
  },
  {
   "cell_type": "code",
   "execution_count": 14,
   "id": "ccab6dde",
   "metadata": {},
   "outputs": [
    {
     "data": {
      "image/png": "[encoded data removed]",
      "text/plain": [
       "<Figure size 576x432 with 1 Axes>"
      ]
     },
     "metadata": {
      "needs_background": "light"
     },
     "output_type": "display_data"
    },
    {
     "name": "stdout",
     "output_type": "stream",
     "text": [
      "512 Confusion Matrix Saved\n"
     ]
    },
    {
     "data": {
      "text/plain": [
       "<Figure size 432x288 with 0 Axes>"
      ]
     },
     "metadata": {},
     "output_type": "display_data"
    }
   ],
   "source": [
    "# Confusion Matrix Visualization\n",
    "cm = confusion_matrix(df_512_clustered['labels'], predicted_labels)\n",
    "plt.figure(figsize=(8, 6))\n",
    "\n",
    "# Define the labels for the confusion matrix\n",
    "group_names = ['True Cluster 0', 'False Cluster 1', 'False Cluster 0', 'True Cluster 1']\n",
    "\n",
    "# Create a 2x2 array with the custom labels\n",
    "labels = (np.asarray([\"{0}\\n{1}\".format(name, count)\n",
    "                      for name, count in zip(group_names, cm.flatten())])\n",
    "          .reshape(2, 2))\n",
    "\n",
    "# Plot the heatmap with the custom labels\n",
    "sns.heatmap(cm, annot=labels, fmt='', cmap='Blues', cbar=False)\n",
    "\n",
    "plt.title('Confusion Matrix for Clusters', pad=20)\n",
    "plt.ylabel('Actual Cluster', labelpad=10)\n",
    "plt.xlabel('Predicted Cluster', labelpad=10)\n",
    "plt.xticks(ticks=[0.5, 1.5], labels=['Cluster 0', 'Cluster 1'])\n",
    "plt.yticks(ticks=[0.5, 1.5], labels=['Cluster 0', 'Cluster 1'], rotation=0, va='center')\n",
    "\n",
    "# Save the figure\n",
    "plt.show()\n",
    "plt.savefig(\"confusion_matrix_512.png\", bbox_inches='tight', dpi=300)\n",
    "print(\"512 Confusion Matrix Saved\")"
   ]
  },
  {
   "cell_type": "code",
   "execution_count": null,
   "id": "33dc8c5f",
   "metadata": {},
   "outputs": [],
   "source": []
  },
  {
   "cell_type": "code",
   "execution_count": null,
   "id": "5b2075ef",
   "metadata": {},
   "outputs": [],
   "source": []
  },
  {
   "cell_type": "code",
   "execution_count": null,
   "id": "34485e3c",
   "metadata": {},
   "outputs": [],
   "source": []
  }
 ],
 "metadata": {
  "kernelspec": {
   "display_name": "Python 3 (ipykernel)",
   "language": "python",
   "name": "python3"
  },
  "language_info": {
   "codemirror_mode": {
    "name": "ipython",
    "version": 3
   },
   "file_extension": ".py",
   "mimetype": "text/x-python",
   "name": "python",
   "nbconvert_exporter": "python",
   "pygments_lexer": "ipython3",
   "version": "3.7.9"
  }
 },
 "nbformat": 4,
 "nbformat_minor": 5
}
